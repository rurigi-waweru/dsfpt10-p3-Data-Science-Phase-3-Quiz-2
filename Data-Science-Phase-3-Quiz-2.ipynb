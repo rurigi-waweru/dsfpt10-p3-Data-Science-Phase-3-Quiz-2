{
 "cells": [
  {
   "cell_type": "markdown",
   "id": "d116091e",
   "metadata": {},
   "source": [
    "# Quiz: Object-Oriented Programming"
   ]
  },
  {
   "cell_type": "markdown",
   "id": "773ce245",
   "metadata": {},
   "source": [
    "\n",
    "# Question 1:\n",
    "\n",
    "Which of the following is the correct way to instantiate the `Driver` class?\n",
    "\n",
    "```python\n",
    "class Driver:\n",
    "    def greeting(self):\n",
    "\treturn \"Hello, how are you today?\"\n",
    "```\n",
    "\n",
    "(i) bill = Driver() \n",
    "\n",
    "(ii) bill.Driver() \n",
    "\n",
    "(iii) import Driver \n",
    "\n",
    "(iv) Driver.bill() \n",
    "\n",
    "(v) driver('bill')"
   ]
  },
  {
   "cell_type": "markdown",
   "id": "f4c2e79b",
   "metadata": {},
   "source": [
    "The `correct` way to instantiate the Driver class is: `(i) bill = Driver()`\n",
    "\n",
    "## Explanation:\n",
    "\n",
    "(i) ✅ Correct: This is the standard syntax for creating an object (instance) of a class.\n",
    "\n",
    "(ii) ❌ Incorrect: This would attempt to call a method named Driver on a variable bill, which is undefined.\n",
    "\n",
    "(iii) ❌ Incorrect: import Driver is for importing a module, not instantiating a class.\n",
    "\n",
    "(iv) ❌ Incorrect: This tries to call a method bill() on the class Driver, which doesn’t exist.\n",
    "\n",
    "(v) ❌ Incorrect: driver('bill') implies driver is a callable (like a function or class), but it's undefined here, and Driver doesn’t take arguments in the constructor."
   ]
  },
  {
   "cell_type": "markdown",
   "id": "0d17ee9b",
   "metadata": {},
   "source": [
    "# Question 2:\n",
    "\n",
    "When writing code, what statement can be used as a placeholder to prevent an indentation error?\n",
    "\n",
    "\n",
    "(i) def\n",
    "\n",
    "(ii) instance\n",
    "\n",
    "(iii) class\n",
    "\n",
    "(iv) pass\n",
    "\n",
    "(v) break"
   ]
  },
  {
   "cell_type": "markdown",
   "id": "fe8566f4",
   "metadata": {},
   "source": [
    "The correct answer is: `(iv) pass`\n",
    "\n",
    "## Explanation:\n",
    "\n",
    "(iv) pass ✅ Correct: pass is a placeholder that does nothing but prevents an indentation error. It's often used in situations where code is required syntactically but you don’t want to implement it yet.\n",
    "\n",
    "(i) def ❌ Incorrect: def is used to define a function, not to prevent indentation errors.\n",
    "\n",
    "(ii) instance ❌ Incorrect: instance is not a keyword in Python and does not serve this purpose.\n",
    "\n",
    "(iii) class ❌ Incorrect: class is used to define a class, not to handle indentation errors.\n",
    "\n",
    "(v) break ❌ Incorrect: break is used to exit loops, not as a placeholder to prevent indentation errors."
   ]
  },
  {
   "cell_type": "markdown",
   "id": "6ef5e68e",
   "metadata": {},
   "source": [
    "# Question 3:\n",
    "\n",
    "In the following example, what is the expected output?\n",
    "\n",
    "```python \n",
    "class Bike:\n",
    "\tdef color(self):\n",
    "\t\treturn \"The bike is Red\"\n",
    "\t\n",
    "\tdef style(self):\n",
    "\t\treturn \"The bike is a Road bike\"\n",
    "\n",
    "my_new_bike = Bike()\n",
    "my_new_bike.style()\n",
    "```\n",
    "\n",
    "(i) AttributeError: 'Bike' object has no attribute 'style'\n",
    "\n",
    "\n",
    "(ii) ’The bike is Red’\n",
    "\n",
    "\n",
    "(iii) There is no output\n",
    "\n",
    "\n",
    "(iv) <__main__.Bike object at 0x7fdf900313a0>\n",
    "\n",
    "\n",
    "(v) ’The bike is a Road bike’"
   ]
  },
  {
   "cell_type": "markdown",
   "id": "d51df801",
   "metadata": {},
   "source": [
    "The correct answer is: `(v) 'The bike is a Road bike'`\n",
    "\n",
    "## Explanation:\n",
    "(v) 'The bike is a Road bike' ✅ Correct: The style() method is called on the my_new_bike object, which correctly returns \"The bike is a Road bike\".\n",
    "\n",
    "(i) AttributeError ❌ Incorrect: There is no error because the style() method exists in the Bike class.\n",
    "\n",
    "(ii) 'The bike is Red' ❌ Incorrect: The method color() is not called, so this output will not appear.\n",
    "\n",
    "(iii) There is no output ❌ Incorrect: Calling my_new_bike.style() will indeed produce an output.\n",
    "\n",
    "(iv) <__main__.Bike object at 0x7fdf900313a0> ❌ Incorrect: This output would happen if you tried to print the my_new_bike object itself without calling any methods."
   ]
  },
  {
   "cell_type": "markdown",
   "id": "d27831a9",
   "metadata": {},
   "source": [
    "# Question 4:\n",
    "\n",
    "In the following example, which of the following outputs can you expect?\n",
    "\n",
    "```python\n",
    "class Cat:\n",
    "\t\n",
    "\tdef meow():\n",
    "\t\treturn \"Meow, Purr!\"\n",
    "\n",
    "fifi = Cat()\n",
    "fifi.meow()\n",
    "```\n",
    "\n",
    "(i) TypeError: meow() takes 0 positional arguments but 1 was given\n",
    "\n",
    "\n",
    "(ii) ‘Meow, Purr!’\n",
    "\n",
    "\n",
    "(iii) <bound method Cat.meow of <__main__.Cat object at 0x7fdf900313a0>>\n",
    "\n",
    "\n",
    "(iv) AttributeError: 'Cat' object has no attribute 'meow'\n",
    "\n",
    "\n",
    "(v) There is no output"
   ]
  },
  {
   "cell_type": "markdown",
   "id": "20b3cfa5",
   "metadata": {},
   "source": [
    "The correct answer is: `(i) TypeError: meow() takes 0 positional arguments but 1 was given`\n",
    "\n",
    "## Explanation:\n",
    "(i) TypeError ✅ Correct: The method meow() is defined without a self parameter, which is required in instance methods. When calling fifi.meow(), Python automatically passes fifi as the first argument (i.e., self), causing the TypeError.\n",
    "\n",
    "(ii) 'Meow, Purr!' ❌ Incorrect: The function would work if it had a self parameter, but it doesn’t, leading to an error.\n",
    "\n",
    "(iii) <bound method Cat.meow of <__main__.Cat object at 0x7fdf900313a0>> ❌ Incorrect: This would happen if you accessed meow without calling it (e.g., fifi.meow), not when invoking it.\n",
    "\n",
    "(iv) AttributeError: 'Cat' object has no attribute 'meow' ❌ Incorrect: The meow method exists; the issue is with the incorrect method definition.\n",
    "\n",
    "(v) There is no output ❌ Incorrect: The error prevents any output from being generated."
   ]
  },
  {
   "cell_type": "markdown",
   "id": "4c95a5f4",
   "metadata": {},
   "source": [
    "## Question 5:\n",
    "\n",
    "\n",
    "The creation of functions in programming languages made it easier to do which of the following?\n",
    "\n",
    "(select all that apply)\n",
    "\n",
    "(i) Break a program\n",
    "\n",
    "(ii) Create a GOTO statement\n",
    "\n",
    "(iii) Call a short script multiple times\n",
    "\n",
    "(iv) Set global variables\n",
    "\n",
    "(v) Reuse a subroutine\n"
   ]
  },
  {
   "cell_type": "markdown",
   "id": "3caed7d8",
   "metadata": {},
   "source": [
    "The correct answers are: \n",
    "```\n",
    "(iii) Call a short script multiple times\n",
    "(v) Reuse a subroutine\n",
    "```\n",
    "## Explanation:\n",
    "\n",
    "(iii) Call a short script multiple times ✅ Correct: Functions allow you to define a block of code that can be called and executed multiple times, making the code more modular and reusable.\n",
    "\n",
    "(v) Reuse a subroutine ✅ Correct: Functions are essentially reusable blocks of code (subroutines), which makes it easier to avoid repetition in your program.\n",
    "\n",
    "(i) Break a program ❌ Incorrect: Functions themselves don't break a program; they help organize and structure code.\n",
    "\n",
    "(ii) Create a GOTO statement ❌ Incorrect: Functions don’t create a GOTO statement, which is a separate control flow statement that is generally discouraged in modern programming due to its potential for creating spaghetti code.\n",
    "\n",
    "(iv) Set global variables ❌ Incorrect: Functions can access or modify global variables, but they don't inherently make it easier to set them. In fact, the use of global variables can often complicate code."
   ]
  },
  {
   "cell_type": "markdown",
   "id": "69ba2584",
   "metadata": {},
   "source": []
  }
 ],
 "metadata": {
  "language_info": {
   "name": "python"
  }
 },
 "nbformat": 4,
 "nbformat_minor": 5
}
